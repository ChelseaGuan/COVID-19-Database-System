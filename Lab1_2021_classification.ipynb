{
  "cells": [
    {
      "cell_type": "markdown",
      "metadata": {
        "id": "view-in-github",
        "colab_type": "text"
      },
      "source": [
        "<a href=\"https://colab.research.google.com/github/ChelseaGuan/COVID-19-Database-System/blob/main/Lab1_2021_classification.ipynb\" target=\"_parent\"><img src=\"https://colab.research.google.com/assets/colab-badge.svg\" alt=\"Open In Colab\"/></a>"
      ]
    },
    {
      "cell_type": "markdown",
      "metadata": {
        "id": "t4XgYQK1Fpuu"
      },
      "source": [
        "# CS4035 - Cyber Data Analytics\n",
        "## Lab 1 - Fraud data"
      ]
    },
    {
      "cell_type": "markdown",
      "metadata": {
        "id": "0VvY9IHPFpu0"
      },
      "source": [
        "## Group Number : 8"
      ]
    },
    {
      "cell_type": "markdown",
      "metadata": {
        "id": "3aPd6-evFpu1"
      },
      "source": [
        "## Student 1 \n",
        "### Name : Nicolas Perez\n",
        "### ID : 5081270"
      ]
    },
    {
      "cell_type": "markdown",
      "metadata": {
        "id": "EfatLoZJFpu1"
      },
      "source": [
        "## Student 2\n",
        "### Name : Chelsea Guan\n",
        "### ID : 5695481"
      ]
    },
    {
      "cell_type": "markdown",
      "metadata": {
        "id": "6_ws6KzcFpvP"
      },
      "source": [
        "## 4. Classification task – 2 A4"
      ]
    },
    {
      "cell_type": "code",
      "source": [
        "from google.colab import drive\n",
        "drive.mount('/content/drive')"
      ],
      "metadata": {
        "colab": {
          "base_uri": "https://localhost:8080/"
        },
        "id": "k4gXmfK0GzuN",
        "outputId": "916e863e-9243-49f3-f6d4-0126bc47ebe6"
      },
      "execution_count": 1,
      "outputs": [
        {
          "output_type": "stream",
          "name": "stdout",
          "text": [
            "Drive already mounted at /content/drive; to attempt to forcibly remount, call drive.mount(\"/content/drive\", force_remount=True).\n"
          ]
        }
      ]
    },
    {
      "cell_type": "markdown",
      "metadata": {
        "id": "Qeq18cLEFpvR"
      },
      "source": [
        "## Data processing"
      ]
    },
    {
      "cell_type": "code",
      "execution_count": 2,
      "metadata": {
        "id": "4gPjsSvxFpvR"
      },
      "outputs": [],
      "source": [
        "import numpy as np\n",
        "import pandas as pd\n",
        "\n",
        "# Fill missing values and adjust currencies for both the training set and the test sets\n",
        "# Note that part of this code was taken from the W1_Visuals notebook on Brightspace\n",
        "def clean(data: pd.DataFrame) -> pd.DataFrame:\n",
        "    data = data.copy()\n",
        "    \n",
        "    # Filing missing values\n",
        "    data.loc[data['cardverificationcodesupplied'].isna(),'cardverificationcodesupplied'] = False\n",
        "    data.loc[data['issuercountrycode'].isna(),'issuercountrycode'] = 'ZZ'\n",
        "    data.loc[data['shoppercountrycode'].isna(),'shoppercountrycode'] = 'ZZ'\n",
        "\n",
        "    # Standardize transaction amounts into euros\n",
        "    def conv(row):\n",
        "        currency_dict = {\"BGN\": 1.9558, \"NZD\": 1.6805, \"ILS\": 4.0448, \"RUB\": 72.2099, \"CAD\": 1.5075, \"USD\": 1.1218,\n",
        "                         \"PHP\": 58.125, \"CHF\": 1.1437, \"ZAR\": 16.0224, \"AUD\": 1.5911, \"JPY\": 124.93, \"TRY\": 6.6913,\n",
        "                         \"HKD\": 8.8007, \"MYR\": 4.6314, \"THB\": 35.802, \"HRK\": 7.413, \"NOK\": 9.6678, \"IDR\": 15953.68,\n",
        "                         \"DKK\": 7.4646, \"CZK\": 25.659, \"HUF\": 322.97, \"GBP\": 0.86248, \"MXN\": 21.2829, \"KRW\": 1308.01,\n",
        "                         \"ISK\": 136.2, \"SGD\": 1.5263, \"BRL\": 4.405, \"PLN\": 4.2868, \"INR\": 78.0615, \"RON\": 4.7596,\n",
        "                         \"CNY\": 7.5541, \"SEK\": 10.635}\n",
        "        return row['amount'] / (currency_dict[row['currencycode']]*100)\n",
        "\n",
        "    data['amount'] = data.apply(lambda x: conv(x), axis=1)\n",
        "\n",
        "    # Simple feature engineering\n",
        "    data['countries_equal'] = (data['shoppercountrycode'] == data['issuercountrycode'])\n",
        "    data.loc[data['countries_equal'] == False, 'countries_equal'] = 0\n",
        "    data.loc[data['countries_equal'] == True, 'countries_equal'] = 1\n",
        "    \n",
        "    return data\n"
      ]
    },
    {
      "cell_type": "code",
      "execution_count": 3,
      "metadata": {
        "id": "MtnizIlaFpvR"
      },
      "outputs": [],
      "source": [
        "from sklearn.preprocessing import LabelEncoder, OneHotEncoder, StandardScaler\n",
        "from typing import Tuple\n",
        "\n",
        "def encode(data: pd.DataFrame) -> Tuple[pd.DataFrame, pd.DataFrame]:\n",
        "    data = data.copy()\n",
        "\n",
        "    # Normalize numerical data.\n",
        "    numerical_cols = ['amount']\n",
        "    scaler = StandardScaler()\n",
        "    data[numerical_cols] = scaler.fit_transform(data[numerical_cols])\n",
        "\n",
        "    # Label encode categorical data with too many unique values\n",
        "    le = LabelEncoder()\n",
        "    data['bin'] = le.fit_transform(data['bin'])\n",
        "\n",
        "    # One hot encode other categorical data with less unique values\n",
        "    categorical_cols = ['issuercountrycode', 'txvariantcode', 'currencycode', 'shoppercountrycode', 'shopperinteraction', 'accountcode']\n",
        "    ohe = OneHotEncoder(sparse_output=False, handle_unknown=\"ignore\")\n",
        "    ohe.fit(data[categorical_cols])\n",
        "    cat_feature_names = ohe.get_feature_names_out(categorical_cols)\n",
        "\n",
        "    one_hot_encoded = ohe.fit_transform(data[categorical_cols])\n",
        "    data = pd.concat([data.drop(categorical_cols, axis=1), pd.DataFrame(one_hot_encoded, columns=cat_feature_names, index=data.index)], axis=1)\n",
        "\n",
        "    return data"
      ]
    },
    {
      "cell_type": "markdown",
      "source": [
        "## Training models (10 fold cross validation)\n",
        "Takes about 15 minutes to run"
      ],
      "metadata": {
        "id": "-OGQRoDRIWc9"
      }
    },
    {
      "cell_type": "code",
      "execution_count": 4,
      "metadata": {
        "id": "a58eMd1-FpvS",
        "outputId": "c6826093-8548-4bec-929a-ca85e5d25534",
        "colab": {
          "base_uri": "https://localhost:8080/"
        }
      },
      "outputs": [
        {
          "output_type": "stream",
          "name": "stdout",
          "text": [
            "Fold 0:\n",
            "Done SMOTEing\n",
            "Done Fitting Classifier\n",
            "0.7675180044139854\n",
            "0.9397970147520036 \n",
            "\n",
            "Fold 1:\n",
            "Done SMOTEing\n",
            "Done Fitting Classifier\n",
            "0.9596323674002037\n",
            "0.9558536977779366 \n",
            "\n",
            "Fold 2:\n",
            "Done SMOTEing\n",
            "Done Fitting Classifier\n",
            "0.8575820600708766\n",
            "0.9169592749665949 \n",
            "\n",
            "Fold 3:\n",
            "Done SMOTEing\n",
            "Done Fitting Classifier\n",
            "0.8755742524691819\n",
            "0.9400869019269437 \n",
            "\n",
            "Fold 4:\n",
            "Done SMOTEing\n",
            "Done Fitting Classifier\n",
            "0.8351172914824069\n",
            "0.9364209366533462 \n",
            "\n",
            "Fold 5:\n",
            "Done SMOTEing\n",
            "Done Fitting Classifier\n",
            "0.8024239450652791\n",
            "0.9519019920507341 \n",
            "\n",
            "Fold 6:\n",
            "Done SMOTEing\n",
            "Done Fitting Classifier\n",
            "0.8058835770138559\n",
            "0.8958235301837023 \n",
            "\n",
            "Fold 7:\n",
            "Done SMOTEing\n",
            "Done Fitting Classifier\n",
            "0.8274422131665512\n",
            "0.9333491598834529 \n",
            "\n",
            "Fold 8:\n",
            "Done SMOTEing\n",
            "Done Fitting Classifier\n",
            "0.7256252112200068\n",
            "0.9549256505576208 \n",
            "\n",
            "Fold 9:\n",
            "Done SMOTEing\n",
            "Done Fitting Classifier\n",
            "0.9092907005845654\n",
            "0.9591184147017286 \n",
            "\n"
          ]
        }
      ],
      "source": [
        "from sklearn.ensemble import RandomForestClassifier\n",
        "from sklearn.tree import DecisionTreeClassifier\n",
        "from sklearn.model_selection import TimeSeriesSplit\n",
        "from sklearn.metrics import roc_auc_score\n",
        "from imblearn.over_sampling import SMOTE\n",
        "\n",
        "# Prepare data\n",
        "train_path = '/content/drive/My Drive/Cyber Data Analytics/data/lab_1/train_data.csv'\n",
        "data = pd.read_csv(train_path)\n",
        "data = data.drop(['Id', 'mail_id', 'ip_id', 'card_id'], axis=1)\n",
        "data = clean(data)\n",
        "data = encode(data)\n",
        "\n",
        "# Split the data into features and labels\n",
        "X = data.drop('label', axis=1)\n",
        "y = data['label']\n",
        "\n",
        "tss = TimeSeriesSplit(n_splits=10)\n",
        "\n",
        "for i, (train_index, test_index) in enumerate(tss.split(X)):\n",
        "    print(f'Fold {i}:')\n",
        "    train_data = data.iloc[train_index]\n",
        "    test_data = data.iloc[test_index]\n",
        "\n",
        "    X_train = train_data.drop('label', axis=1)\n",
        "    y_train = train_data['label']\n",
        "    X_test = test_data.drop('label', axis=1)\n",
        "    y_test = test_data['label']\n",
        "\n",
        "    # Apply SMOTE to the train set\n",
        "    smote = SMOTE(random_state=42)\n",
        "    X_train_res, y_train_res = smote.fit_resample(X_train, y_train)\n",
        "    print('Done SMOTEing')\n",
        "\n",
        "    # Train white-box model\n",
        "    wb = DecisionTreeClassifier(\n",
        "               max_depth=100,\n",
        "               max_features='sqrt',\n",
        "               min_samples_leaf=4,\n",
        "               min_samples_split=10,\n",
        "               random_state=42)\n",
        "    wb.fit(X_train_res, y_train_res)\n",
        "    print('Done Fitting Classifier')\n",
        "    y_pred_proba_wb = wb.predict_proba(X_test)[:,1]\n",
        "    auc_wb = roc_auc_score(y_test, y_pred_proba_wb)\n",
        "    print('White-box AUC: ', auc_wb)\n",
        "    \n",
        "    # Train black-box model\n",
        "    bb = RandomForestClassifier(\n",
        "               max_depth=100,\n",
        "               max_features='sqrt',\n",
        "               min_samples_leaf=4,\n",
        "               min_samples_split=10,\n",
        "               n_estimators=500,\n",
        "               random_state=42, n_jobs=-1)\n",
        "    bb.fit(X_train_res, y_train_res)\n",
        "    y_pred_proba_bb = bb.predict_proba(X_test)[:,1]\n",
        "    auc_bb = roc_auc_score(y_test, y_pred_proba_bb)\n",
        "    print('Black-box AUC: ', auc_bb, \"\\n\")\n",
        "    \n"
      ]
    },
    {
      "cell_type": "markdown",
      "source": [
        "## Improving AUC\n",
        "This part can be deleted later, for now, I'm using it to tweak the parameters in RandomForestClassifier and DecisionTreeClassifier "
      ],
      "metadata": {
        "id": "RMIQ-J13w9yy"
      }
    },
    {
      "cell_type": "code",
      "source": [
        "# from sklearn.ensemble import RandomForestClassifier\n",
        "# from sklearn.tree import DecisionTreeClassifier\n",
        "# from sklearn.model_selection import train_test_split\n",
        "# from sklearn.metrics import roc_auc_score\n",
        "# from imblearn.over_sampling import SMOTE\n",
        "\n",
        "# data_path = '/content/drive/My Drive/Cyber Data Analytics/data/lab_1/train_data.csv'\n",
        "# data = pd.read_csv(data_path)\n",
        "# data = data.drop(['Id', 'mail_id', 'ip_id', 'card_id'], axis=1)\n",
        "\n",
        "# data = clean(data)\n",
        "# data = encode(data)\n",
        "\n",
        "# # Split the data into features and labels\n",
        "# X = data.drop('label', axis=1)\n",
        "# y = data['label']\n",
        "# X_train, X_test, y_train, y_test = train_test_split(X, y, test_size=0.2, random_state=42)\n",
        "\n",
        "# # Apply SMOTE to the train set\n",
        "# smote = SMOTE(random_state=42)\n",
        "# X_train_res, y_train_res = smote.fit_resample(X_train, y_train)\n",
        "\n",
        "# clf = DecisionTreeClassifier(\n",
        "#                max_depth=100,\n",
        "#                max_features='sqrt',\n",
        "#                min_samples_leaf=4,\n",
        "#                min_samples_split=10,\n",
        "#                random_state=42)\n",
        "# clf.fit(X_train_res, y_train_res)\n",
        "# y_pred_proba = clf.predict_proba(X_test)[:,1]\n",
        "# auc = roc_auc_score(y_test, y_pred_proba)\n",
        "# print(auc, \"\\n\")\n",
        "\n"
      ],
      "metadata": {
        "id": "Er_rrcvZwkZJ"
      },
      "execution_count": null,
      "outputs": []
    },
    {
      "cell_type": "markdown",
      "metadata": {
        "id": "2xjrXSQqFpvS"
      },
      "source": [
        "### 4a. Print relevant plots and metrics with clear headings."
      ]
    },
    {
      "cell_type": "code",
      "execution_count": null,
      "metadata": {
        "id": "ImSb_d-GFpvT"
      },
      "outputs": [],
      "source": []
    },
    {
      "cell_type": "markdown",
      "metadata": {
        "id": "gmjEVsExFpvT"
      },
      "source": [
        "### 4b. Explain the applied data pre-processing steps, learning algorithms, and post-processing steps or ensemble methods. Compare the performance of the two algorithms, focusing on performance criteria that are relevant in practice, use 10-fold cross-validation."
      ]
    },
    {
      "cell_type": "code",
      "execution_count": null,
      "metadata": {
        "id": "IRA3RL6zFpvT"
      },
      "outputs": [],
      "source": []
    },
    {
      "cell_type": "markdown",
      "metadata": {
        "id": "Rmrf7eGGFpvT"
      },
      "source": [
        "## 5. Bonus task – 1 A4\n",
        "\n",
        "The simplest aggregate feature is from txvariantcode, distingushing debit from credit cards. Maybe some extra features for visa, as those cards have a bunch more types.\n",
        "\n",
        "Another aggregate feature is if the shopper country is the same as the issuer country"
      ]
    },
    {
      "cell_type": "markdown",
      "metadata": {
        "id": "_DgveN4YFpvU"
      },
      "source": [
        "### 5a. Provide code and report below"
      ]
    },
    {
      "cell_type": "code",
      "execution_count": null,
      "metadata": {
        "id": "uLZnOrrFFpvU"
      },
      "outputs": [],
      "source": []
    },
    {
      "cell_type": "markdown",
      "source": [
        "## Kaggle"
      ],
      "metadata": {
        "id": "pFMxvDJoP_hI"
      }
    },
    {
      "cell_type": "code",
      "source": [
        "# from sklearn.ensemble import RandomForestClassifier\n",
        "# from sklearn.tree import DecisionTreeClassifier\n",
        "# from sklearn.model_selection import StratifiedKFold\n",
        "# from imblearn.over_sampling import SMOTE\n",
        "\n",
        "# train_path = '/content/drive/My Drive/Cyber Data Analytics/data/lab_1/train_data.csv'\n",
        "# train_data = pd.read_csv(train_path)\n",
        "# test_path = '/content/drive/My Drive/Cyber Data Analytics/data/lab_1/test_data.csv'\n",
        "# test_data = pd.read_csv(test_path)\n",
        "# id_test = test_data['Id']\n",
        "\n",
        "# data = pd.concat([train_data, test_data])\n",
        "# data = data.drop(['Id', 'mail_id', 'ip_id', 'card_id'], axis=1)\n",
        "\n",
        "# data = clean(data)\n",
        "# data = encode(data)\n",
        "\n",
        "# train_data = data.iloc[:len(train_data), :]\n",
        "# test_data = data.iloc[len(train_data):, :]\n",
        "\n",
        "# # Split the data into features and labels\n",
        "# X_train = train_data.drop('label', axis=1)\n",
        "# y_train = train_data['label']\n",
        "# X_test = test_data.drop('label', axis=1)\n",
        "\n",
        "# # Apply SMOTE to the train set\n",
        "# smote = SMOTE(random_state=42)\n",
        "# X_train_res, y_train_res = smote.fit_resample(X_train, y_train)\n",
        "\n",
        "# bb = RandomForestClassifier(\n",
        "#                max_depth=100,\n",
        "#                max_features='sqrt',\n",
        "#                min_samples_leaf=4,\n",
        "#                min_samples_split=10,\n",
        "#                n_estimators=500,\n",
        "#                random_state=42, n_jobs=-1)\n",
        "# bb.fit(X_train_res, y_train_res)\n",
        "# y_pred_proba_bb = bb.predict_proba(X_test)[:,1]\n",
        "\n",
        "# output = pd.concat([id_test, pd.DataFrame({'Predicted': y_pred_proba_bb})], axis=1)\n",
        "# output.to_csv('kaggle.csv', index=False)"
      ],
      "metadata": {
        "id": "_XjfoRw6PdLg"
      },
      "execution_count": null,
      "outputs": []
    }
  ],
  "metadata": {
    "kernelspec": {
      "display_name": "Python 3 (ipykernel)",
      "language": "python",
      "name": "python3"
    },
    "language_info": {
      "codemirror_mode": {
        "name": "ipython",
        "version": 3
      },
      "file_extension": ".py",
      "mimetype": "text/x-python",
      "name": "python",
      "nbconvert_exporter": "python",
      "pygments_lexer": "ipython3",
      "version": "3.9.5"
    },
    "colab": {
      "provenance": [],
      "include_colab_link": true
    }
  },
  "nbformat": 4,
  "nbformat_minor": 0
}